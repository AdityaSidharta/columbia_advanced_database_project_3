{
 "cells": [
  {
   "cell_type": "code",
   "execution_count": 172,
   "id": "5614ae8a",
   "metadata": {},
   "outputs": [],
   "source": [
    "from collections import defaultdict\n",
    "from itertools import combinations\n",
    "\n",
    "\n",
    "def get_l1_itemset(transactions, minsupp):\n",
    "    k1_itemset = []\n",
    "    item_count = defaultdict(int)\n",
    "    freq_itemset = dict()\n",
    "    n_transaction = len(transactions)\n",
    "    for transaction in transactions:\n",
    "        for item in transaction:\n",
    "            item_count[(item,)] = item_count[(item,)] + 1\n",
    "    for key, value in item_count.items():\n",
    "        supp = value / n_transaction\n",
    "        if supp >= minsupp:\n",
    "            k1_itemset.append([key[0]])\n",
    "            freq_itemset[key] = supp\n",
    "    return sorted(k1_itemset), item_count, freq_itemset\n",
    "\n",
    "\n",
    "def get_lk_candidate(pruned_itemset, transactions, minsupp):\n",
    "    k_itemset = []\n",
    "    item_count = {}\n",
    "    freq_itemset = {}\n",
    "    k = len(pruned_itemset[0])\n",
    "    for pruned in pruned_itemset:\n",
    "        item_count[tuple(pruned)] = 0\n",
    "    n_transaction = len(transactions)\n",
    "    for transaction in transactions:\n",
    "        if len(transaction) >= k:\n",
    "            for comb in combinations(transaction, k):\n",
    "                if comb in item_count:\n",
    "                    item_count[comb] = item_count[comb] + 1\n",
    "    for key, value in item_count.items():\n",
    "        supp = value / n_transaction\n",
    "        if supp >= minsupp:\n",
    "            k_itemset.append(sorted(list(key)))\n",
    "            freq_itemset[key] = supp\n",
    "    return sorted(k_itemset), item_count, freq_itemset\n",
    "\n",
    "\n",
    "def apriori_gen(k_itemset):\n",
    "    candidate_itemset = set()\n",
    "    for item1, item2 in combinations(k_itemset, 2):\n",
    "        if item1[:-1] == item2[:-1]:\n",
    "            if item1[-1] < item2[-1]:\n",
    "                candidate_itemset.add(tuple(item1 + [item2[-1]]))\n",
    "    candidate_itemset = list(candidate_itemset)\n",
    "    return sorted([list(x) for x in candidate_itemset])\n",
    "\n",
    "\n",
    "def prune(candidate_itemset, prev_itemset):\n",
    "    k = len(prev_itemset[0]) + 1\n",
    "    pruned_itemset = []\n",
    "    for itemset in candidate_itemset:\n",
    "        valid = True\n",
    "        for combination in combinations(itemset, k-1):\n",
    "            if list(combination) not in prev_itemset:\n",
    "                valid = False\n",
    "        if valid:\n",
    "            pruned_itemset.append(itemset)\n",
    "    return pruned_itemset\n",
    "\n",
    "\n",
    "def get_assoc_itemsets(lk_itemsets, minconf, item_count_dict, freq_itemsets, max_k):\n",
    "    assoc_itemsets = dict()\n",
    "    all_assoc_itemsets = dict()\n",
    "    for k in range(2, max_k+1):\n",
    "        assoc_k_itemset = set()\n",
    "        k_itemset = lk_itemsets[k]\n",
    "        for itemset in k_itemset:\n",
    "            for i in range(k):\n",
    "                full = tuple(itemset)\n",
    "                left, right = itemset[:i] + itemset[i+1:], itemset[i]\n",
    "                assoc_k_itemset.add((tuple(full), tuple(left), right))\n",
    "        for full, left, right in assoc_k_itemset:\n",
    "            conf = item_count_dict[full] / item_count_dict[left]\n",
    "            supp = freq_itemsets[full]\n",
    "            all_assoc_itemsets[(left, right)] = conf\n",
    "            if conf >= minconf:\n",
    "                assoc_itemsets[(left, right)] = (conf, supp)\n",
    "    return assoc_itemsets, all_assoc_itemsets\n",
    "\n",
    "\n",
    "def get_frequent_itemsets(transactions, minsupp, minconf):\n",
    "    freq_itemsets = dict()\n",
    "    lk_itemsets = dict()\n",
    "    item_count_dict = dict()\n",
    "    k = 1\n",
    "    k1_itemset, item_count, freq_itemset = get_l1_itemset(transactions, minsupp)\n",
    "    if len(k1_itemset) == 0:\n",
    "        raise ValueError(\"None of the k1-itemset is frequent\")\n",
    "    item_count_dict.update(item_count)\n",
    "    freq_itemsets.update(freq_itemset)\n",
    "    lk_itemsets[k] = k1_itemset\n",
    "    prev_itemset = k1_itemset\n",
    "    while len(prev_itemset) > 0:\n",
    "        candidate_itemset = apriori_gen(prev_itemset)\n",
    "        if len(candidate_itemset) == 0:\n",
    "            break\n",
    "        pruned_itemset = prune(candidate_itemset, prev_itemset)\n",
    "        if len(pruned_itemset) == 0:\n",
    "            break\n",
    "        k_itemset, item_count, freq_itemset = get_lk_candidate(pruned_itemset, transactions, minsupp)\n",
    "        item_count_dict.update(item_count)\n",
    "        if len(k_itemset) != 0:\n",
    "            k = k + 1\n",
    "            freq_itemsets.update(freq_itemset)\n",
    "            lk_itemsets[k] = k_itemset\n",
    "        else:\n",
    "            break\n",
    "        prev_itemset = k_itemset\n",
    "    assoc_itemsets, all_assoc_itemsets = get_assoc_itemsets(lk_itemsets, minconf, item_count_dict, freq_itemsets, k)\n",
    "    return freq_itemsets, assoc_itemsets, all_assoc_itemsets, lk_itemsets"
   ]
  },
  {
   "cell_type": "code",
   "execution_count": 181,
   "id": "3cbddbf7",
   "metadata": {},
   "outputs": [],
   "source": [
    "transactions = [['pen','ink','diary','soap'],\n",
    "['pen','ink','diary'],\n",
    "['pen','diary', 'book'],\n",
    "['pen','ink','soap']]\n",
    "\n",
    "transactions = [sorted(x) for x in transactions]\n",
    "minsupp = 0.5\n",
    "minconf = 0.5"
   ]
  },
  {
   "cell_type": "code",
   "execution_count": 182,
   "id": "d28a5d33",
   "metadata": {},
   "outputs": [],
   "source": [
    "transactions2 = [['pen', 'ink', 'diary', 'soap'], ['pen', 'ink', 'diary'], ['pen', 'diary', 'book'], ['pen', 'ink', 'soap']]"
   ]
  },
  {
   "cell_type": "code",
   "execution_count": 189,
   "id": "a6a8b39c",
   "metadata": {},
   "outputs": [
    {
     "name": "stdout",
     "output_type": "stream",
     "text": [
      "diary,ink,pen,soap\n",
      "diary,ink,pen\n",
      "book,diary,pen\n",
      "ink,pen,soap\n"
     ]
    }
   ],
   "source": [
    "for t in transactions:\n",
    "    print(','.join(t))"
   ]
  },
  {
   "cell_type": "code",
   "execution_count": 188,
   "id": "514a3e7b",
   "metadata": {},
   "outputs": [
    {
     "data": {
      "text/plain": [
       "[['pen', 'ink', 'diary', 'soap'],\n",
       " ['pen', 'ink', 'diary'],\n",
       " ['pen', 'diary', 'book'],\n",
       " ['pen', 'ink', 'soap']]"
      ]
     },
     "execution_count": 188,
     "metadata": {},
     "output_type": "execute_result"
    }
   ],
   "source": [
    "transactions2"
   ]
  },
  {
   "cell_type": "code",
   "execution_count": 185,
   "id": "7dc91ebb",
   "metadata": {},
   "outputs": [],
   "source": [
    "freq_itemsets, assoc_itemsets, all_assoc_itemsets, lk_itemsets = get_frequent_itemsets(transactions2, minsupp, minconf)"
   ]
  },
  {
   "cell_type": "code",
   "execution_count": 186,
   "id": "c824a03c",
   "metadata": {},
   "outputs": [
    {
     "data": {
      "text/plain": [
       "{('pen',): 1.0,\n",
       " ('ink',): 0.75,\n",
       " ('diary',): 0.75,\n",
       " ('soap',): 0.5,\n",
       " ('ink', 'soap'): 0.5,\n",
       " ('pen', 'soap'): 0.5}"
      ]
     },
     "execution_count": 186,
     "metadata": {},
     "output_type": "execute_result"
    }
   ],
   "source": [
    "freq_itemsets"
   ]
  },
  {
   "cell_type": "code",
   "execution_count": 30,
   "id": "3648c0b3",
   "metadata": {},
   "outputs": [
    {
     "data": {
      "text/plain": [
       "{('diary',): 0.75,\n",
       " ('ink',): 0.75,\n",
       " ('pen',): 1.0,\n",
       " ('soap',): 0.5,\n",
       " ('diary', 'ink'): 0.5,\n",
       " ('diary', 'pen'): 0.75,\n",
       " ('ink', 'pen'): 0.75,\n",
       " ('ink', 'soap'): 0.5,\n",
       " ('pen', 'soap'): 0.5,\n",
       " ('diary', 'ink', 'pen'): 0.5,\n",
       " ('ink', 'pen', 'soap'): 0.5}"
      ]
     },
     "execution_count": 30,
     "metadata": {},
     "output_type": "execute_result"
    }
   ],
   "source": [
    "freq_itemsets"
   ]
  },
  {
   "cell_type": "code",
   "execution_count": 31,
   "id": "f77bec34",
   "metadata": {},
   "outputs": [
    {
     "data": {
      "text/plain": [
       "{(('soap',), 'ink'): (1.0, 0.5),\n",
       " (('pen',), 'ink'): (0.75, 0.75),\n",
       " (('diary',), 'pen'): (1.0, 0.75),\n",
       " (('ink',), 'diary'): (0.6666666666666666, 0.5),\n",
       " (('diary',), 'ink'): (0.6666666666666666, 0.5),\n",
       " (('pen',), 'diary'): (0.75, 0.75),\n",
       " (('pen',), 'soap'): (0.5, 0.5),\n",
       " (('ink',), 'pen'): (1.0, 0.75),\n",
       " (('soap',), 'pen'): (1.0, 0.5),\n",
       " (('ink',), 'soap'): (0.6666666666666666, 0.5),\n",
       " (('diary', 'pen'), 'ink'): (0.6666666666666666, 0.5),\n",
       " (('ink', 'pen'), 'diary'): (0.6666666666666666, 0.5),\n",
       " (('ink', 'soap'), 'pen'): (1.0, 0.5),\n",
       " (('diary', 'ink'), 'pen'): (1.0, 0.5),\n",
       " (('pen', 'soap'), 'ink'): (1.0, 0.5),\n",
       " (('ink', 'pen'), 'soap'): (0.6666666666666666, 0.5)}"
      ]
     },
     "execution_count": 31,
     "metadata": {},
     "output_type": "execute_result"
    }
   ],
   "source": [
    "assoc_itemsets"
   ]
  },
  {
   "cell_type": "code",
   "execution_count": 35,
   "id": "d659f917",
   "metadata": {},
   "outputs": [],
   "source": [
    "def format_freq_itemsets(freq_itemsets, minsupp):\n",
    "    print(\"==Frequent itemsets (min_sup={:.1f}%)\".format(minsupp * 100.))\n",
    "    freq = [(k, v) for k, v in freq_itemsets.items()]\n",
    "    freq.sort(key = lambda x: (x[1], x[0]), reverse=True)\n",
    "    for k, v in freq:\n",
    "        print(\"[{}], {:.1f}%\".format(','.join(k), v * 100.))\n",
    "\n",
    "\n",
    "\n",
    "def format_assoc_itemsets(assoc_itemsets, minconf):\n",
    "    print(\"==High-confidence association rules (min_conf={:.1f}%)\".format(minconf * 100.))\n",
    "    assoc = [(k, v) for k, v in assoc_itemsets.items()]\n",
    "    assoc.sort(key = lambda x: (x[1][0], x[1][1], x[0]), reverse=True)\n",
    "    for k, v in assoc:\n",
    "        print(\"[{}] => [{}] (Conf: {:.1f}%, Supp: {:.1f}%)\".format(','.join(k[0]), k[1], v[0] * 100., v[1] * 100.))"
   ]
  },
  {
   "cell_type": "code",
   "execution_count": 36,
   "id": "67073ec9",
   "metadata": {},
   "outputs": [
    {
     "name": "stdout",
     "output_type": "stream",
     "text": [
      "==Frequent itemsets (min_sup=50.0%)\n",
      "[pen], 100.0%\n",
      "[ink,pen], 75.0%\n",
      "[ink], 75.0%\n",
      "[diary,pen], 75.0%\n",
      "[diary], 75.0%\n",
      "[soap], 50.0%\n",
      "[pen,soap], 50.0%\n",
      "[ink,soap], 50.0%\n",
      "[ink,pen,soap], 50.0%\n",
      "[diary,ink,pen], 50.0%\n",
      "[diary,ink], 50.0%\n"
     ]
    }
   ],
   "source": [
    "format_freq_itemsets(freq_itemsets, 0.5)"
   ]
  },
  {
   "cell_type": "code",
   "execution_count": 37,
   "id": "b2281f55",
   "metadata": {},
   "outputs": [
    {
     "name": "stdout",
     "output_type": "stream",
     "text": [
      "==High-confidence association rules (min_conf=50.0%)\n",
      "[ink] => [pen] (Conf: 100.0%, Supp: 75.0%)\n",
      "[diary] => [pen] (Conf: 100.0%, Supp: 75.0%)\n",
      "[soap] => [pen] (Conf: 100.0%, Supp: 50.0%)\n",
      "[soap] => [ink] (Conf: 100.0%, Supp: 50.0%)\n",
      "[pen,soap] => [ink] (Conf: 100.0%, Supp: 50.0%)\n",
      "[ink,soap] => [pen] (Conf: 100.0%, Supp: 50.0%)\n",
      "[diary,ink] => [pen] (Conf: 100.0%, Supp: 50.0%)\n",
      "[pen] => [ink] (Conf: 75.0%, Supp: 75.0%)\n",
      "[pen] => [diary] (Conf: 75.0%, Supp: 75.0%)\n",
      "[ink,pen] => [soap] (Conf: 66.7%, Supp: 50.0%)\n",
      "[ink,pen] => [diary] (Conf: 66.7%, Supp: 50.0%)\n",
      "[ink] => [soap] (Conf: 66.7%, Supp: 50.0%)\n",
      "[ink] => [diary] (Conf: 66.7%, Supp: 50.0%)\n",
      "[diary,pen] => [ink] (Conf: 66.7%, Supp: 50.0%)\n",
      "[diary] => [ink] (Conf: 66.7%, Supp: 50.0%)\n",
      "[pen] => [soap] (Conf: 50.0%, Supp: 50.0%)\n"
     ]
    }
   ],
   "source": [
    "format_assoc_itemsets(assoc_itemsets, 0.5)"
   ]
  },
  {
   "cell_type": "code",
   "execution_count": 13,
   "id": "f1394fe4",
   "metadata": {},
   "outputs": [
    {
     "name": "stdout",
     "output_type": "stream",
     "text": [
      "> \u001b[0;32m<ipython-input-10-354d91c8b769>\u001b[0m(14)\u001b[0;36mformat_assoc_itemsets\u001b[0;34m()\u001b[0m\n",
      "\u001b[0;32m     10 \u001b[0;31m    \u001b[0mprint\u001b[0m\u001b[0;34m(\u001b[0m\u001b[0;34m\"==High-confidence association rules (min_conf={:.1f}%)\"\u001b[0m\u001b[0;34m.\u001b[0m\u001b[0mformat\u001b[0m\u001b[0;34m(\u001b[0m\u001b[0mminconf\u001b[0m \u001b[0;34m*\u001b[0m \u001b[0;36m100.\u001b[0m\u001b[0;34m)\u001b[0m\u001b[0;34m)\u001b[0m\u001b[0;34m\u001b[0m\u001b[0;34m\u001b[0m\u001b[0m\n",
      "\u001b[0m\u001b[0;32m     11 \u001b[0;31m    \u001b[0massoc\u001b[0m \u001b[0;34m=\u001b[0m \u001b[0;34m[\u001b[0m\u001b[0;34m(\u001b[0m\u001b[0mk\u001b[0m\u001b[0;34m,\u001b[0m \u001b[0mv\u001b[0m\u001b[0;34m)\u001b[0m \u001b[0;32mfor\u001b[0m \u001b[0mk\u001b[0m\u001b[0;34m,\u001b[0m \u001b[0mv\u001b[0m \u001b[0;32min\u001b[0m \u001b[0massoc_itemsets\u001b[0m\u001b[0;34m.\u001b[0m\u001b[0mitems\u001b[0m\u001b[0;34m(\u001b[0m\u001b[0;34m)\u001b[0m\u001b[0;34m]\u001b[0m\u001b[0;34m\u001b[0m\u001b[0;34m\u001b[0m\u001b[0m\n",
      "\u001b[0m\u001b[0;32m     12 \u001b[0;31m    \u001b[0massoc\u001b[0m\u001b[0;34m.\u001b[0m\u001b[0msort\u001b[0m\u001b[0;34m(\u001b[0m\u001b[0mkey\u001b[0m \u001b[0;34m=\u001b[0m \u001b[0;32mlambda\u001b[0m \u001b[0mx\u001b[0m\u001b[0;34m:\u001b[0m \u001b[0;34m(\u001b[0m\u001b[0mx\u001b[0m\u001b[0;34m[\u001b[0m\u001b[0;36m1\u001b[0m\u001b[0;34m]\u001b[0m\u001b[0;34m[\u001b[0m\u001b[0;36m0\u001b[0m\u001b[0;34m]\u001b[0m\u001b[0;34m,\u001b[0m \u001b[0mx\u001b[0m\u001b[0;34m[\u001b[0m\u001b[0;36m1\u001b[0m\u001b[0;34m]\u001b[0m\u001b[0;34m[\u001b[0m\u001b[0;36m1\u001b[0m\u001b[0;34m]\u001b[0m\u001b[0;34m,\u001b[0m \u001b[0mx\u001b[0m\u001b[0;34m[\u001b[0m\u001b[0;36m0\u001b[0m\u001b[0;34m]\u001b[0m\u001b[0;34m)\u001b[0m\u001b[0;34m)\u001b[0m\u001b[0;34m\u001b[0m\u001b[0;34m\u001b[0m\u001b[0m\n",
      "\u001b[0m\u001b[0;32m     13 \u001b[0;31m    \u001b[0;32mfor\u001b[0m \u001b[0mk\u001b[0m\u001b[0;34m,\u001b[0m \u001b[0mv\u001b[0m \u001b[0;32min\u001b[0m \u001b[0massoc\u001b[0m\u001b[0;34m:\u001b[0m\u001b[0;34m\u001b[0m\u001b[0;34m\u001b[0m\u001b[0m\n",
      "\u001b[0m\u001b[0;32m---> 14 \u001b[0;31m        \u001b[0mprint\u001b[0m\u001b[0;34m(\u001b[0m\u001b[0;34m\"[{}] => [{}] (Conf: {:.1f}%, Supp: {:.1f}%)\"\u001b[0m\u001b[0;34m.\u001b[0m\u001b[0mformat\u001b[0m\u001b[0;34m(\u001b[0m\u001b[0;34m','\u001b[0m\u001b[0;34m.\u001b[0m\u001b[0mjoin\u001b[0m\u001b[0;34m(\u001b[0m\u001b[0mk\u001b[0m\u001b[0;34m)\u001b[0m\u001b[0;34m,\u001b[0m \u001b[0mv\u001b[0m\u001b[0;34m[\u001b[0m\u001b[0;36m0\u001b[0m\u001b[0;34m]\u001b[0m \u001b[0;34m*\u001b[0m \u001b[0;36m100.\u001b[0m\u001b[0;34m,\u001b[0m \u001b[0mv\u001b[0m\u001b[0;34m[\u001b[0m\u001b[0;36m1\u001b[0m\u001b[0;34m]\u001b[0m \u001b[0;34m*\u001b[0m \u001b[0;36m100.\u001b[0m\u001b[0;34m)\u001b[0m\u001b[0;34m)\u001b[0m\u001b[0;34m\u001b[0m\u001b[0;34m\u001b[0m\u001b[0m\n",
      "\u001b[0m\n",
      "ipdb> k\n",
      "(('diary', 'pen'), 'ink')\n",
      "ipdb> v\n",
      "(0.6666666666666666, 0.5)\n",
      "ipdb> q\n"
     ]
    }
   ],
   "source": [
    "%debug"
   ]
  },
  {
   "cell_type": "code",
   "execution_count": 124,
   "id": "05d2e3fa",
   "metadata": {},
   "outputs": [],
   "source": []
  },
  {
   "cell_type": "code",
   "execution_count": 126,
   "id": "e83f5b64",
   "metadata": {},
   "outputs": [],
   "source": [
    "freq_itemsets = dict()\n",
    "lk_itemsets = dict()\n",
    "item_count_dict = dict()\n",
    "k = 1\n",
    "k1_itemset, item_count, freq_itemset = get_l1_itemset(transactions, minsupp)\n",
    "if len(k1_itemset) == 0:\n",
    "    raise ValueError(\"None of the k1-itemset is frequent\")"
   ]
  },
  {
   "cell_type": "code",
   "execution_count": 127,
   "id": "54044ced",
   "metadata": {},
   "outputs": [
    {
     "name": "stdout",
     "output_type": "stream",
     "text": [
      "[['diary'], ['ink'], ['pen'], ['soap']]\n",
      "defaultdict(<class 'int'>, {('diary',): 3, ('ink',): 3, ('pen',): 4, ('soap',): 2, ('book',): 1})\n",
      "{('diary',): 0.75, ('ink',): 0.75, ('pen',): 1.0, ('soap',): 0.5}\n"
     ]
    }
   ],
   "source": [
    "print(k1_itemset)\n",
    "print(item_count)\n",
    "print(freq_itemset)"
   ]
  },
  {
   "cell_type": "code",
   "execution_count": 128,
   "id": "011e072f",
   "metadata": {},
   "outputs": [],
   "source": [
    "item_count_dict.update(item_count)\n",
    "freq_itemsets.update(freq_itemset)\n",
    "lk_itemsets[k] = k1_itemset\n",
    "prev_itemset = k1_itemset"
   ]
  },
  {
   "cell_type": "code",
   "execution_count": 130,
   "id": "d3669eaf",
   "metadata": {},
   "outputs": [
    {
     "name": "stdout",
     "output_type": "stream",
     "text": [
      "{('diary',): 3, ('ink',): 3, ('pen',): 4, ('soap',): 2, ('book',): 1}\n",
      "{('diary',): 0.75, ('ink',): 0.75, ('pen',): 1.0, ('soap',): 0.5}\n",
      "{1: [['diary'], ['ink'], ['pen'], ['soap']]}\n"
     ]
    }
   ],
   "source": [
    "print(item_count_dict)\n",
    "print(freq_itemsets)\n",
    "print(lk_itemsets)"
   ]
  },
  {
   "cell_type": "code",
   "execution_count": 131,
   "id": "19d42c51",
   "metadata": {},
   "outputs": [],
   "source": [
    "while len(prev_itemset) > 0:\n",
    "    candidate_itemset = apriori_gen(prev_itemset)\n",
    "    if len(candidate_itemset) == 0:\n",
    "        break\n",
    "    pruned_itemset = prune(candidate_itemset, prev_itemset)\n",
    "    if len(pruned_itemset) == 0:\n",
    "        break\n",
    "    k_itemset, item_count, freq_itemset = get_lk_candidate(pruned_itemset, transactions, minsupp)\n",
    "    item_count_dict.update(item_count)\n",
    "    if len(k_itemset) != 0:\n",
    "        k = k + 1\n",
    "        freq_itemsets.update(freq_itemset)\n",
    "        lk_itemsets[k] = k_itemset\n",
    "    else:\n",
    "        break\n",
    "    prev_itemset = k_itemset"
   ]
  },
  {
   "cell_type": "code",
   "execution_count": 132,
   "id": "987ee208",
   "metadata": {},
   "outputs": [
    {
     "name": "stdout",
     "output_type": "stream",
     "text": [
      "{('diary',): 3, ('ink',): 3, ('pen',): 4, ('soap',): 2, ('book',): 1, ('diary', 'ink'): 2, ('diary', 'pen'): 3, ('diary', 'soap'): 1, ('ink', 'pen'): 3, ('ink', 'soap'): 2, ('pen', 'soap'): 2, ('diary', 'ink', 'pen'): 2, ('ink', 'pen', 'soap'): 2}\n",
      "{('diary',): 0.75, ('ink',): 0.75, ('pen',): 1.0, ('soap',): 0.5, ('diary', 'ink'): 0.5, ('diary', 'pen'): 0.75, ('ink', 'pen'): 0.75, ('ink', 'soap'): 0.5, ('pen', 'soap'): 0.5, ('diary', 'ink', 'pen'): 0.5, ('ink', 'pen', 'soap'): 0.5}\n",
      "{1: [['diary'], ['ink'], ['pen'], ['soap']], 2: [['diary', 'ink'], ['diary', 'pen'], ['ink', 'pen'], ['ink', 'soap'], ['pen', 'soap']], 3: [['diary', 'ink', 'pen'], ['ink', 'pen', 'soap']]}\n"
     ]
    }
   ],
   "source": [
    "print(item_count_dict)\n",
    "print(freq_itemsets)\n",
    "print(lk_itemsets)"
   ]
  },
  {
   "cell_type": "code",
   "execution_count": 133,
   "id": "35b56090",
   "metadata": {},
   "outputs": [],
   "source": [
    "assoc_itemsets = get_assoc_itemsets(lk_itemsets, minconf, item_count_dict, k)"
   ]
  },
  {
   "cell_type": "code",
   "execution_count": 134,
   "id": "7d930ab1",
   "metadata": {},
   "outputs": [
    {
     "data": {
      "text/plain": [
       "({(('ink', 'soap'), 'pen'): 1.0,\n",
       "  (('ink', 'pen'), 'soap'): 0.6666666666666666,\n",
       "  (('diary', 'pen'), 'ink'): 0.6666666666666666,\n",
       "  (('pen', 'soap'), 'ink'): 1.0,\n",
       "  (('ink', 'pen'), 'diary'): 0.6666666666666666,\n",
       "  (('diary', 'ink'), 'pen'): 1.0},\n",
       " {(('ink', 'soap'), 'pen'): 1.0,\n",
       "  (('ink', 'pen'), 'soap'): 0.6666666666666666,\n",
       "  (('diary', 'pen'), 'ink'): 0.6666666666666666,\n",
       "  (('pen', 'soap'), 'ink'): 1.0,\n",
       "  (('ink', 'pen'), 'diary'): 0.6666666666666666,\n",
       "  (('diary', 'ink'), 'pen'): 1.0})"
      ]
     },
     "execution_count": 134,
     "metadata": {},
     "output_type": "execute_result"
    }
   ],
   "source": [
    "assoc_itemsets"
   ]
  },
  {
   "cell_type": "code",
   "execution_count": 136,
   "id": "4127e3bb",
   "metadata": {},
   "outputs": [
    {
     "data": {
      "text/plain": [
       "[{(('ink', 'soap'), 'pen'): 1.0,\n",
       "  (('ink', 'pen'), 'soap'): 0.6666666666666666,\n",
       "  (('diary', 'pen'), 'ink'): 0.6666666666666666,\n",
       "  (('pen', 'soap'), 'ink'): 1.0,\n",
       "  (('ink', 'pen'), 'diary'): 0.6666666666666666,\n",
       "  (('diary', 'ink'), 'pen'): 1.0},\n",
       " {(('ink', 'soap'), 'pen'): 1.0,\n",
       "  (('ink', 'pen'), 'soap'): 0.6666666666666666,\n",
       "  (('diary', 'pen'), 'ink'): 0.6666666666666666,\n",
       "  (('pen', 'soap'), 'ink'): 1.0,\n",
       "  (('ink', 'pen'), 'diary'): 0.6666666666666666,\n",
       "  (('diary', 'ink'), 'pen'): 1.0}]"
      ]
     },
     "execution_count": 136,
     "metadata": {},
     "output_type": "execute_result"
    }
   ],
   "source": [
    "list(assoc_itemsets)"
   ]
  },
  {
   "cell_type": "code",
   "execution_count": null,
   "id": "71fccb37",
   "metadata": {},
   "outputs": [],
   "source": [
    "transactions = [['pen','ink','diary','soap'],\n",
    "['pen','ink','diary'],\n",
    "['pen','diary', 'book'],\n",
    "['pen','ink','soap']]\n",
    "\n",
    "transactions = [sorted(x) for x in transactions]\n"
   ]
  },
  {
   "cell_type": "code",
   "execution_count": null,
   "id": "c2c86754",
   "metadata": {},
   "outputs": [],
   "source": []
  },
  {
   "cell_type": "code",
   "execution_count": null,
   "id": "a8615475",
   "metadata": {},
   "outputs": [],
   "source": []
  },
  {
   "cell_type": "code",
   "execution_count": null,
   "id": "8ba1c899",
   "metadata": {},
   "outputs": [],
   "source": []
  },
  {
   "cell_type": "code",
   "execution_count": null,
   "id": "6833fe7e",
   "metadata": {},
   "outputs": [],
   "source": []
  },
  {
   "cell_type": "code",
   "execution_count": 125,
   "id": "66cb9838",
   "metadata": {},
   "outputs": [],
   "source": [
    "minsupp = 0.5\n",
    "minconf = 0.5"
   ]
  },
  {
   "cell_type": "code",
   "execution_count": 52,
   "id": "c2e538f7",
   "metadata": {},
   "outputs": [],
   "source": [
    "large_itemsets = dict()\n",
    "item_counts = dict()\n",
    "k = 1\n",
    "prev_itemset, item_count = get_l1_itemset(transactions, minsupp)\n",
    "item_counts.update(item_count)\n",
    "large_itemsets[k] = prev_itemset"
   ]
  },
  {
   "cell_type": "code",
   "execution_count": 53,
   "id": "6a4fec85",
   "metadata": {},
   "outputs": [
    {
     "data": {
      "text/plain": [
       "{1: [['diary'], ['ink'], ['pen'], ['soap']]}"
      ]
     },
     "execution_count": 53,
     "metadata": {},
     "output_type": "execute_result"
    }
   ],
   "source": [
    "large_itemsets"
   ]
  },
  {
   "cell_type": "code",
   "execution_count": 54,
   "id": "c87a3b64",
   "metadata": {},
   "outputs": [
    {
     "data": {
      "text/plain": [
       "{('diary',): 3, ('ink',): 3, ('pen',): 4, ('soap',): 2, ('book',): 1}"
      ]
     },
     "execution_count": 54,
     "metadata": {},
     "output_type": "execute_result"
    }
   ],
   "source": [
    "item_counts"
   ]
  },
  {
   "cell_type": "code",
   "execution_count": 55,
   "id": "47098023",
   "metadata": {},
   "outputs": [
    {
     "data": {
      "text/plain": [
       "[['diary', 'ink'],\n",
       " ['diary', 'pen'],\n",
       " ['diary', 'soap'],\n",
       " ['ink', 'pen'],\n",
       " ['ink', 'soap'],\n",
       " ['pen', 'soap']]"
      ]
     },
     "execution_count": 55,
     "metadata": {},
     "output_type": "execute_result"
    }
   ],
   "source": [
    "candidate_itemset = apriori_gen(prev_itemset)\n",
    "candidate_itemset"
   ]
  },
  {
   "cell_type": "code",
   "execution_count": 56,
   "id": "67297f81",
   "metadata": {},
   "outputs": [
    {
     "data": {
      "text/plain": [
       "[['diary', 'ink'],\n",
       " ['diary', 'pen'],\n",
       " ['diary', 'soap'],\n",
       " ['ink', 'pen'],\n",
       " ['ink', 'soap'],\n",
       " ['pen', 'soap']]"
      ]
     },
     "execution_count": 56,
     "metadata": {},
     "output_type": "execute_result"
    }
   ],
   "source": [
    "pruned_itemset = prune(candidate_itemset, prev_itemset)\n",
    "pruned_itemset"
   ]
  },
  {
   "cell_type": "code",
   "execution_count": 57,
   "id": "577992bc",
   "metadata": {},
   "outputs": [],
   "source": [
    "large_itemset, item_count = get_lk_candidate(pruned_itemset, transactions, minsupp)"
   ]
  },
  {
   "cell_type": "code",
   "execution_count": 58,
   "id": "f96239f6",
   "metadata": {},
   "outputs": [
    {
     "data": {
      "text/plain": [
       "[['diary', 'ink'],\n",
       " ['diary', 'pen'],\n",
       " ['ink', 'pen'],\n",
       " ['ink', 'soap'],\n",
       " ['pen', 'soap']]"
      ]
     },
     "execution_count": 58,
     "metadata": {},
     "output_type": "execute_result"
    }
   ],
   "source": [
    "large_itemset"
   ]
  },
  {
   "cell_type": "code",
   "execution_count": 59,
   "id": "0df4efa8",
   "metadata": {},
   "outputs": [],
   "source": [
    "item_counts.update(item_count)"
   ]
  },
  {
   "cell_type": "code",
   "execution_count": 63,
   "id": "75e0f06b",
   "metadata": {},
   "outputs": [
    {
     "data": {
      "text/plain": [
       "{('diary',): 3,\n",
       " ('ink',): 3,\n",
       " ('pen',): 4,\n",
       " ('soap',): 2,\n",
       " ('book',): 1,\n",
       " ('diary', 'ink'): 2,\n",
       " ('diary', 'pen'): 3,\n",
       " ('diary', 'soap'): 1,\n",
       " ('ink', 'pen'): 3,\n",
       " ('ink', 'soap'): 2,\n",
       " ('pen', 'soap'): 2}"
      ]
     },
     "execution_count": 63,
     "metadata": {},
     "output_type": "execute_result"
    }
   ],
   "source": [
    "item_counts"
   ]
  },
  {
   "cell_type": "code",
   "execution_count": 64,
   "id": "fb7e38b3",
   "metadata": {},
   "outputs": [],
   "source": [
    "if len(large_itemset) != 0:\n",
    "    k = k + 1\n",
    "    large_itemsets[k] = large_itemset"
   ]
  },
  {
   "cell_type": "code",
   "execution_count": 65,
   "id": "b0609f0d",
   "metadata": {},
   "outputs": [],
   "source": [
    "prev_itemset = large_itemset"
   ]
  },
  {
   "cell_type": "code",
   "execution_count": 66,
   "id": "dcb1f1af",
   "metadata": {},
   "outputs": [
    {
     "data": {
      "text/plain": [
       "[['diary', 'ink'],\n",
       " ['diary', 'pen'],\n",
       " ['ink', 'pen'],\n",
       " ['ink', 'soap'],\n",
       " ['pen', 'soap']]"
      ]
     },
     "execution_count": 66,
     "metadata": {},
     "output_type": "execute_result"
    }
   ],
   "source": [
    "prev_itemset"
   ]
  },
  {
   "cell_type": "code",
   "execution_count": 67,
   "id": "ba405feb",
   "metadata": {},
   "outputs": [],
   "source": [
    "candidate_itemset = apriori_gen(prev_itemset)"
   ]
  },
  {
   "cell_type": "code",
   "execution_count": 68,
   "id": "d536d5a0",
   "metadata": {},
   "outputs": [
    {
     "data": {
      "text/plain": [
       "[['diary', 'ink', 'pen'], ['ink', 'pen', 'soap']]"
      ]
     },
     "execution_count": 68,
     "metadata": {},
     "output_type": "execute_result"
    }
   ],
   "source": [
    "candidate_itemset"
   ]
  },
  {
   "cell_type": "code",
   "execution_count": 70,
   "id": "24f66a3e",
   "metadata": {},
   "outputs": [],
   "source": [
    "pruned_itemset = prune(candidate_itemset, prev_itemset)"
   ]
  },
  {
   "cell_type": "code",
   "execution_count": 71,
   "id": "d839c250",
   "metadata": {},
   "outputs": [
    {
     "data": {
      "text/plain": [
       "[['diary', 'ink', 'pen'], ['ink', 'pen', 'soap']]"
      ]
     },
     "execution_count": 71,
     "metadata": {},
     "output_type": "execute_result"
    }
   ],
   "source": [
    "pruned_itemset"
   ]
  },
  {
   "cell_type": "code",
   "execution_count": 72,
   "id": "fb411bda",
   "metadata": {},
   "outputs": [],
   "source": [
    "large_itemset, item_count = get_lk_candidate(pruned_itemset, transactions, minsupp)"
   ]
  },
  {
   "cell_type": "code",
   "execution_count": 75,
   "id": "bae6f3be",
   "metadata": {},
   "outputs": [],
   "source": [
    "item_counts.update(item_count)"
   ]
  },
  {
   "cell_type": "code",
   "execution_count": 79,
   "id": "ad5697da",
   "metadata": {},
   "outputs": [],
   "source": [
    "large_itemsets[k] = large_itemset"
   ]
  },
  {
   "cell_type": "code",
   "execution_count": 80,
   "id": "2ce06426",
   "metadata": {},
   "outputs": [],
   "source": [
    "k = k+1"
   ]
  },
  {
   "cell_type": "code",
   "execution_count": 82,
   "id": "27b17571",
   "metadata": {},
   "outputs": [],
   "source": [
    "del large_itemsets[4]"
   ]
  },
  {
   "cell_type": "code",
   "execution_count": 83,
   "id": "ea0c22de",
   "metadata": {
    "scrolled": true
   },
   "outputs": [
    {
     "data": {
      "text/plain": [
       "{1: [['diary'], ['ink'], ['pen'], ['soap']],\n",
       " 2: [['diary', 'ink'],\n",
       "  ['diary', 'pen'],\n",
       "  ['ink', 'pen'],\n",
       "  ['ink', 'soap'],\n",
       "  ['pen', 'soap']],\n",
       " 3: [['diary', 'ink', 'pen'], ['ink', 'pen', 'soap']]}"
      ]
     },
     "execution_count": 83,
     "metadata": {},
     "output_type": "execute_result"
    }
   ],
   "source": [
    "large_itemsets"
   ]
  },
  {
   "cell_type": "code",
   "execution_count": 84,
   "id": "9f198f7c",
   "metadata": {},
   "outputs": [],
   "source": [
    "prev_itemset = large_itemset"
   ]
  },
  {
   "cell_type": "code",
   "execution_count": 85,
   "id": "112560eb",
   "metadata": {},
   "outputs": [],
   "source": [
    "candidate_itemset = apriori_gen(prev_itemset)"
   ]
  },
  {
   "cell_type": "code",
   "execution_count": 86,
   "id": "63a21554",
   "metadata": {},
   "outputs": [
    {
     "data": {
      "text/plain": [
       "[]"
      ]
     },
     "execution_count": 86,
     "metadata": {},
     "output_type": "execute_result"
    }
   ],
   "source": [
    "candidate_itemset"
   ]
  },
  {
   "cell_type": "code",
   "execution_count": 88,
   "id": "1487cc96",
   "metadata": {},
   "outputs": [],
   "source": [
    "k = 3"
   ]
  },
  {
   "cell_type": "code",
   "execution_count": 89,
   "id": "ad922ec2",
   "metadata": {},
   "outputs": [
    {
     "ename": "IndexError",
     "evalue": "list index out of range",
     "output_type": "error",
     "traceback": [
      "\u001b[0;31m---------------------------------------------------------------------------\u001b[0m",
      "\u001b[0;31mIndexError\u001b[0m                                Traceback (most recent call last)",
      "\u001b[0;32m<ipython-input-89-32425629b6da>\u001b[0m in \u001b[0;36m<module>\u001b[0;34m\u001b[0m\n\u001b[0;32m----> 1\u001b[0;31m \u001b[0massoc_itemsets\u001b[0m \u001b[0;34m=\u001b[0m \u001b[0mget_assoc_itemsets\u001b[0m\u001b[0;34m(\u001b[0m\u001b[0mlarge_itemsets\u001b[0m\u001b[0;34m,\u001b[0m \u001b[0mminconf\u001b[0m\u001b[0;34m,\u001b[0m \u001b[0mitem_counts\u001b[0m\u001b[0;34m,\u001b[0m \u001b[0mk\u001b[0m\u001b[0;34m)\u001b[0m\u001b[0;34m\u001b[0m\u001b[0;34m\u001b[0m\u001b[0m\n\u001b[0m",
      "\u001b[0;32m<ipython-input-49-9724af5770e1>\u001b[0m in \u001b[0;36mget_assoc_itemsets\u001b[0;34m(large_itemsets, minconf, item_counts, k)\u001b[0m\n\u001b[1;32m     66\u001b[0m             \u001b[0;32mfor\u001b[0m \u001b[0mj\u001b[0m \u001b[0;32min\u001b[0m \u001b[0mrange\u001b[0m\u001b[0;34m(\u001b[0m\u001b[0mk\u001b[0m\u001b[0;34m)\u001b[0m\u001b[0;34m:\u001b[0m\u001b[0;34m\u001b[0m\u001b[0;34m\u001b[0m\u001b[0m\n\u001b[1;32m     67\u001b[0m                 \u001b[0mfull\u001b[0m \u001b[0;34m=\u001b[0m \u001b[0mtuple\u001b[0m\u001b[0;34m(\u001b[0m\u001b[0mitemset\u001b[0m\u001b[0;34m)\u001b[0m\u001b[0;34m\u001b[0m\u001b[0;34m\u001b[0m\u001b[0m\n\u001b[0;32m---> 68\u001b[0;31m                 \u001b[0mleft\u001b[0m\u001b[0;34m,\u001b[0m \u001b[0mright\u001b[0m \u001b[0;34m=\u001b[0m \u001b[0mitemset\u001b[0m\u001b[0;34m[\u001b[0m\u001b[0;34m:\u001b[0m\u001b[0mj\u001b[0m\u001b[0;34m]\u001b[0m \u001b[0;34m+\u001b[0m \u001b[0mitemset\u001b[0m\u001b[0;34m[\u001b[0m\u001b[0mj\u001b[0m\u001b[0;34m+\u001b[0m\u001b[0;36m1\u001b[0m\u001b[0;34m:\u001b[0m\u001b[0;34m]\u001b[0m\u001b[0;34m,\u001b[0m \u001b[0mitemset\u001b[0m\u001b[0;34m[\u001b[0m\u001b[0mj\u001b[0m\u001b[0;34m]\u001b[0m\u001b[0;34m\u001b[0m\u001b[0;34m\u001b[0m\u001b[0m\n\u001b[0m\u001b[1;32m     69\u001b[0m                 \u001b[0massoc_itemset\u001b[0m\u001b[0;34m.\u001b[0m\u001b[0madd\u001b[0m\u001b[0;34m(\u001b[0m\u001b[0;34m(\u001b[0m\u001b[0mtuple\u001b[0m\u001b[0;34m(\u001b[0m\u001b[0mfull\u001b[0m\u001b[0;34m)\u001b[0m\u001b[0;34m,\u001b[0m \u001b[0mtuple\u001b[0m\u001b[0;34m(\u001b[0m\u001b[0mleft\u001b[0m\u001b[0;34m)\u001b[0m\u001b[0;34m,\u001b[0m \u001b[0mright\u001b[0m\u001b[0;34m)\u001b[0m\u001b[0;34m)\u001b[0m\u001b[0;34m\u001b[0m\u001b[0;34m\u001b[0m\u001b[0m\n\u001b[1;32m     70\u001b[0m     \u001b[0;32mfor\u001b[0m \u001b[0mfull\u001b[0m\u001b[0;34m,\u001b[0m \u001b[0mleft\u001b[0m\u001b[0;34m,\u001b[0m \u001b[0mright\u001b[0m \u001b[0;32min\u001b[0m \u001b[0massoc_itemset\u001b[0m\u001b[0;34m:\u001b[0m\u001b[0;34m\u001b[0m\u001b[0;34m\u001b[0m\u001b[0m\n",
      "\u001b[0;31mIndexError\u001b[0m: list index out of range"
     ]
    }
   ],
   "source": [
    "assoc_itemsets = get_assoc_itemsets(large_itemsets, minconf, item_counts, k)"
   ]
  },
  {
   "cell_type": "code",
   "execution_count": 90,
   "id": "6bf8d2f7",
   "metadata": {},
   "outputs": [
    {
     "name": "stdout",
     "output_type": "stream",
     "text": [
      "> \u001b[0;32m<ipython-input-49-9724af5770e1>\u001b[0m(68)\u001b[0;36mget_assoc_itemsets\u001b[0;34m()\u001b[0m\n",
      "\u001b[0;32m     66 \u001b[0;31m            \u001b[0;32mfor\u001b[0m \u001b[0mj\u001b[0m \u001b[0;32min\u001b[0m \u001b[0mrange\u001b[0m\u001b[0;34m(\u001b[0m\u001b[0mk\u001b[0m\u001b[0;34m)\u001b[0m\u001b[0;34m:\u001b[0m\u001b[0;34m\u001b[0m\u001b[0;34m\u001b[0m\u001b[0m\n",
      "\u001b[0m\u001b[0;32m     67 \u001b[0;31m                \u001b[0mfull\u001b[0m \u001b[0;34m=\u001b[0m \u001b[0mtuple\u001b[0m\u001b[0;34m(\u001b[0m\u001b[0mitemset\u001b[0m\u001b[0;34m)\u001b[0m\u001b[0;34m\u001b[0m\u001b[0;34m\u001b[0m\u001b[0m\n",
      "\u001b[0m\u001b[0;32m---> 68 \u001b[0;31m                \u001b[0mleft\u001b[0m\u001b[0;34m,\u001b[0m \u001b[0mright\u001b[0m \u001b[0;34m=\u001b[0m \u001b[0mitemset\u001b[0m\u001b[0;34m[\u001b[0m\u001b[0;34m:\u001b[0m\u001b[0mj\u001b[0m\u001b[0;34m]\u001b[0m \u001b[0;34m+\u001b[0m \u001b[0mitemset\u001b[0m\u001b[0;34m[\u001b[0m\u001b[0mj\u001b[0m\u001b[0;34m+\u001b[0m\u001b[0;36m1\u001b[0m\u001b[0;34m:\u001b[0m\u001b[0;34m]\u001b[0m\u001b[0;34m,\u001b[0m \u001b[0mitemset\u001b[0m\u001b[0;34m[\u001b[0m\u001b[0mj\u001b[0m\u001b[0;34m]\u001b[0m\u001b[0;34m\u001b[0m\u001b[0;34m\u001b[0m\u001b[0m\n",
      "\u001b[0m\u001b[0;32m     69 \u001b[0;31m                \u001b[0massoc_itemset\u001b[0m\u001b[0;34m.\u001b[0m\u001b[0madd\u001b[0m\u001b[0;34m(\u001b[0m\u001b[0;34m(\u001b[0m\u001b[0mtuple\u001b[0m\u001b[0;34m(\u001b[0m\u001b[0mfull\u001b[0m\u001b[0;34m)\u001b[0m\u001b[0;34m,\u001b[0m \u001b[0mtuple\u001b[0m\u001b[0;34m(\u001b[0m\u001b[0mleft\u001b[0m\u001b[0;34m)\u001b[0m\u001b[0;34m,\u001b[0m \u001b[0mright\u001b[0m\u001b[0;34m)\u001b[0m\u001b[0;34m)\u001b[0m\u001b[0;34m\u001b[0m\u001b[0;34m\u001b[0m\u001b[0m\n",
      "\u001b[0m\u001b[0;32m     70 \u001b[0;31m    \u001b[0;32mfor\u001b[0m \u001b[0mfull\u001b[0m\u001b[0;34m,\u001b[0m \u001b[0mleft\u001b[0m\u001b[0;34m,\u001b[0m \u001b[0mright\u001b[0m \u001b[0;32min\u001b[0m \u001b[0massoc_itemset\u001b[0m\u001b[0;34m:\u001b[0m\u001b[0;34m\u001b[0m\u001b[0;34m\u001b[0m\u001b[0m\n",
      "\u001b[0m\n",
      "ipdb> full\n",
      "('diary', 'ink')\n",
      "ipdb> k\n",
      "3\n",
      "ipdb> q\n"
     ]
    }
   ],
   "source": [
    "%debug"
   ]
  },
  {
   "cell_type": "code",
   "execution_count": null,
   "id": "d3f079ac",
   "metadata": {},
   "outputs": [],
   "source": [
    "['diary', 'ink', 'pen', 'soap']"
   ]
  },
  {
   "cell_type": "code",
   "execution_count": null,
   "id": "1f3b2e1f",
   "metadata": {},
   "outputs": [],
   "source": []
  },
  {
   "cell_type": "code",
   "execution_count": 90,
   "id": "9d7d4be3",
   "metadata": {},
   "outputs": [],
   "source": [
    "from collections import defaultdict\n",
    "from itertools import combinations"
   ]
  },
  {
   "cell_type": "code",
   "execution_count": 74,
   "id": "d1609a19",
   "metadata": {},
   "outputs": [],
   "source": [
    "def get_l1_itemset(transactions, minsupp):\n",
    "    result = []\n",
    "    item_count = defaultdict(int)\n",
    "    n_transaction = len(transactions)\n",
    "    for transaction in transactions:\n",
    "        for item in transaction:\n",
    "            item_count[item] = item_count[item] + 1\n",
    "    for key, value in item_count.items():\n",
    "        if value / n_transaction >= minsupp:\n",
    "            result.append([key])\n",
    "    return sorted(result)"
   ]
  },
  {
   "cell_type": "code",
   "execution_count": 75,
   "id": "7fce4b56",
   "metadata": {},
   "outputs": [
    {
     "data": {
      "text/plain": [
       "[[1], [2]]"
      ]
     },
     "execution_count": 75,
     "metadata": {},
     "output_type": "execute_result"
    }
   ],
   "source": [
    "get_l1_itemset([[1,2,3,4], [1,2,3], [1,2], [1]], 0.50001)"
   ]
  },
  {
   "cell_type": "code",
   "execution_count": 28,
   "id": "ce151f3a",
   "metadata": {},
   "outputs": [
    {
     "data": {
      "text/plain": [
       "[{2}, {1}]"
      ]
     },
     "execution_count": 28,
     "metadata": {},
     "output_type": "execute_result"
    }
   ],
   "source": [
    "sorted([{2}, {1}])"
   ]
  },
  {
   "cell_type": "code",
   "execution_count": 31,
   "id": "571c90ed",
   "metadata": {},
   "outputs": [],
   "source": [
    "def get_permutations(items):\n",
    "    result = []\n",
    "    n = len(items)\n",
    "    for i in range(n-1):\n",
    "        for j in range(i+1, n):\n",
    "            result.append((items[i], items[j]))\n",
    "    return result"
   ]
  },
  {
   "cell_type": "code",
   "execution_count": null,
   "id": "51a4a495",
   "metadata": {},
   "outputs": [],
   "source": [
    "def get_prev_permutations(items):\n",
    "    n = len(items):\n",
    "        "
   ]
  },
  {
   "cell_type": "code",
   "execution_count": 92,
   "id": "c3521664",
   "metadata": {},
   "outputs": [
    {
     "data": {
      "text/plain": [
       "[(0, 1),\n",
       " (0, 2),\n",
       " (0, 3),\n",
       " (0, 4),\n",
       " (1, 2),\n",
       " (1, 3),\n",
       " (1, 4),\n",
       " (2, 3),\n",
       " (2, 4),\n",
       " (3, 4)]"
      ]
     },
     "execution_count": 92,
     "metadata": {},
     "output_type": "execute_result"
    }
   ],
   "source": [
    "list(combinations(range(5), 2))"
   ]
  },
  {
   "cell_type": "code",
   "execution_count": 19,
   "id": "bb3e2594",
   "metadata": {},
   "outputs": [
    {
     "data": {
      "text/plain": [
       "[({1}, {2}),\n",
       " ({1}, {3, 4}),\n",
       " ({2}, {1}),\n",
       " ({2}, {3, 4}),\n",
       " ({3, 4}, {1}),\n",
       " ({3, 4}, {2})]"
      ]
     },
     "execution_count": 19,
     "metadata": {},
     "output_type": "execute_result"
    }
   ],
   "source": [
    "list(permutations([{1}, {2}, {3,4}], 2))"
   ]
  },
  {
   "cell_type": "code",
   "execution_count": 38,
   "id": "f559ece2",
   "metadata": {},
   "outputs": [
    {
     "data": {
      "text/plain": [
       "{2, 3, 4}"
      ]
     },
     "execution_count": 38,
     "metadata": {},
     "output_type": "execute_result"
    }
   ],
   "source": [
    "{2,4}.union({3,2})"
   ]
  },
  {
   "cell_type": "code",
   "execution_count": 87,
   "id": "7c841ea5",
   "metadata": {},
   "outputs": [],
   "source": [
    "def apriori_gen(prev_itemsets):\n",
    "    result = set()\n",
    "    for item1, item2 in get_permutations(prev_itemsets):\n",
    "        if item1[:-1] == item2[:-1]:\n",
    "            if item1[-1] < item2[-1]:\n",
    "                result.add(tuple(item1 + [item2[-1]]))\n",
    "    result = list(result)\n",
    "    return [list(x) for x in result]"
   ]
  },
  {
   "cell_type": "code",
   "execution_count": 97,
   "id": "aefcac33",
   "metadata": {},
   "outputs": [
    {
     "data": {
      "text/plain": [
       "[[1, 3, 4, 5], [1, 2, 3, 4]]"
      ]
     },
     "execution_count": 97,
     "metadata": {},
     "output_type": "execute_result"
    }
   ],
   "source": [
    "apriori_gen([[1,2,3], [1,2,4], [1,3,4], [1,3,5], [2,3,4]])"
   ]
  },
  {
   "cell_type": "code",
   "execution_count": 119,
   "id": "84759402",
   "metadata": {},
   "outputs": [],
   "source": [
    "\n",
    "def apriori_gen(prev_itemsets):\n",
    "    result = set()\n",
    "    for item1, item2 in combinations(prev_itemsets, 2):\n",
    "        if item1[:-1] == item2[:-1]:\n",
    "            if item1[-1] < item2[-1]:\n",
    "                result.add(tuple(item1 + [item2[-1]]))\n",
    "    result = list(result)\n",
    "    return sorted([list(x) for x in result])"
   ]
  },
  {
   "cell_type": "code",
   "execution_count": 126,
   "id": "0da5b7dc",
   "metadata": {},
   "outputs": [
    {
     "data": {
      "text/plain": [
       "[[1, 2, 3, 4], [1, 3, 4, 5]]"
      ]
     },
     "execution_count": 126,
     "metadata": {},
     "output_type": "execute_result"
    }
   ],
   "source": [
    "apriori_gen([[1,2,3], [1,2,4], [1,3,4], [1,3,5], [2,3,4]])"
   ]
  },
  {
   "cell_type": "code",
   "execution_count": 128,
   "id": "5a758628",
   "metadata": {},
   "outputs": [
    {
     "data": {
      "text/plain": [
       "[[1, 21, 100], [1, 22, 53], [7, 8, 9], [14, 25, 46]]"
      ]
     },
     "execution_count": 128,
     "metadata": {},
     "output_type": "execute_result"
    }
   ],
   "source": [
    "sorted([[14, 25, 46], [1, 22, 53], [7, 8, 9], [1,21,100]])"
   ]
  },
  {
   "cell_type": "code",
   "execution_count": 130,
   "id": "6971dae2",
   "metadata": {},
   "outputs": [
    {
     "data": {
      "text/plain": [
       "[2, 3, 4, 5, 6, 7, 8, 9]"
      ]
     },
     "execution_count": 130,
     "metadata": {},
     "output_type": "execute_result"
    }
   ],
   "source": [
    "list(range(2, 10))"
   ]
  },
  {
   "cell_type": "code",
   "execution_count": 132,
   "id": "7051419c",
   "metadata": {},
   "outputs": [],
   "source": [
    "a = {}\n",
    "a.update({1:1, 2:2})"
   ]
  },
  {
   "cell_type": "code",
   "execution_count": 134,
   "id": "afd299be",
   "metadata": {},
   "outputs": [],
   "source": [
    "a.update({(1,2) : 3, 'a': 3})"
   ]
  },
  {
   "cell_type": "code",
   "execution_count": 135,
   "id": "3421924e",
   "metadata": {},
   "outputs": [
    {
     "data": {
      "text/plain": [
       "{1: 1, 2: 2, (1, 2): 3, 'a': 3}"
      ]
     },
     "execution_count": 135,
     "metadata": {},
     "output_type": "execute_result"
    }
   ],
   "source": [
    "a"
   ]
  },
  {
   "cell_type": "code",
   "execution_count": 146,
   "id": "b5ed5f45",
   "metadata": {},
   "outputs": [],
   "source": [
    "result = set()\n",
    "for itemset in [[1,2,3], [1,2,4], [1,3,4], [1,3,5], [2,3,4]]:\n",
    "    for j in range(3):\n",
    "        left, right = itemset[:j] + itemset[j+1:], itemset[j]\n",
    "        result.add((tuple(left), right))"
   ]
  },
  {
   "cell_type": "code",
   "execution_count": 147,
   "id": "05d7126c",
   "metadata": {},
   "outputs": [
    {
     "data": {
      "text/plain": [
       "{((1, 2), 3),\n",
       " ((1, 2), 4),\n",
       " ((1, 3), 2),\n",
       " ((1, 3), 4),\n",
       " ((1, 3), 5),\n",
       " ((1, 4), 2),\n",
       " ((1, 4), 3),\n",
       " ((1, 5), 3),\n",
       " ((2, 3), 1),\n",
       " ((2, 3), 4),\n",
       " ((2, 4), 1),\n",
       " ((2, 4), 3),\n",
       " ((3, 4), 1),\n",
       " ((3, 4), 2),\n",
       " ((3, 5), 1)}"
      ]
     },
     "execution_count": 147,
     "metadata": {},
     "output_type": "execute_result"
    }
   ],
   "source": [
    "result"
   ]
  },
  {
   "cell_type": "code",
   "execution_count": 103,
   "id": "4251f7df",
   "metadata": {},
   "outputs": [
    {
     "name": "stdout",
     "output_type": "stream",
     "text": [
      "combination : (1, 4, 5), itemset : [[1, 2, 3], [1, 2, 4], [1, 3, 4], [1, 3, 5], [2, 3, 4]]\n",
      "combination : (3, 4, 5), itemset : [[1, 2, 3], [1, 2, 4], [1, 3, 4], [1, 3, 5], [2, 3, 4]]\n"
     ]
    },
    {
     "data": {
      "text/plain": [
       "[[1, 2, 3, 4]]"
      ]
     },
     "execution_count": 103,
     "metadata": {},
     "output_type": "execute_result"
    }
   ],
   "source": [
    "prune([[1, 3, 4, 5], [1, 2, 3, 4]], [[1,2,3], [1,2,4], [1,3,4], [1,3,5], [2,3,4]])"
   ]
  },
  {
   "cell_type": "code",
   "execution_count": 148,
   "id": "e77a42e9",
   "metadata": {},
   "outputs": [
    {
     "ename": "NameError",
     "evalue": "name 'item_count' is not defined",
     "output_type": "error",
     "traceback": [
      "\u001b[0;31m---------------------------------------------------------------------------\u001b[0m",
      "\u001b[0;31mNameError\u001b[0m                                 Traceback (most recent call last)",
      "\u001b[0;32m<ipython-input-148-a0093280b429>\u001b[0m in \u001b[0;36m<module>\u001b[0;34m\u001b[0m\n\u001b[0;32m----> 1\u001b[0;31m \u001b[0mitem_count\u001b[0m\u001b[0;34m\u001b[0m\u001b[0;34m\u001b[0m\u001b[0m\n\u001b[0m",
      "\u001b[0;31mNameError\u001b[0m: name 'item_count' is not defined"
     ]
    }
   ],
   "source": [
    "item_count"
   ]
  },
  {
   "cell_type": "code",
   "execution_count": 149,
   "id": "f5234744",
   "metadata": {},
   "outputs": [],
   "source": [
    "def get_lk_candidate(pruned_itemset, transactions, minsupp):\n",
    "    result = []\n",
    "    item_count = {}\n",
    "    k = len(pruned_itemset[0])\n",
    "    for pruned in pruned_itemset:\n",
    "        item_count[tuple(pruned)] = 0\n",
    "    n_transaction = len(transactions)\n",
    "    for transaction in transactions:\n",
    "        if len(transaction) >= k:\n",
    "            for comb in combinations(transaction, k):\n",
    "                if comb in item_count:\n",
    "                    item_count[comb] = item_count[comb] + 1\n",
    "    for key, value in item_count.items():\n",
    "        if value / n_transaction >= minsupp:\n",
    "            result.append(sorted(list(key)))\n",
    "    return sorted(result), item_count"
   ]
  },
  {
   "cell_type": "code",
   "execution_count": 150,
   "id": "06e23a92",
   "metadata": {},
   "outputs": [
    {
     "data": {
      "text/plain": [
       "([[2, 3, 4]], {(1, 2, 3): 1, (2, 3, 4): 3})"
      ]
     },
     "execution_count": 150,
     "metadata": {},
     "output_type": "execute_result"
    }
   ],
   "source": [
    "get_lk_candidate([[1,2,3], [2,3,4]], [[1], [2], [1,2,3,4], [2,3,4], [2,3,4,5,6]], 0.25)"
   ]
  },
  {
   "cell_type": "code",
   "execution_count": 118,
   "id": "2cd06554",
   "metadata": {},
   "outputs": [
    {
     "data": {
      "text/plain": [
       "[(1, 2, 3)]"
      ]
     },
     "execution_count": 118,
     "metadata": {},
     "output_type": "execute_result"
    }
   ],
   "source": [
    "list(combinations([1,2,3], 3))"
   ]
  },
  {
   "cell_type": "code",
   "execution_count": 166,
   "id": "3306e275",
   "metadata": {},
   "outputs": [],
   "source": [
    "from collections import defaultdict\n",
    "from itertools import combinations\n",
    "\n",
    "\n",
    "def get_l1_itemset(transactions, minsupp):\n",
    "    result = []\n",
    "    item_count = defaultdict(int)\n",
    "    n_transaction = len(transactions)\n",
    "    for transaction in transactions:\n",
    "        for item in transaction:\n",
    "            item_count[(item,)] = item_count[(item,)] + 1\n",
    "    for key, value in item_count.items():\n",
    "        if value / n_transaction >= minsupp:\n",
    "            result.append([key])\n",
    "    return sorted(result), item_count\n",
    "\n",
    "\n",
    "def get_lk_candidate(pruned_itemset, transactions, minsupp):\n",
    "    result = []\n",
    "    item_count = {}\n",
    "    k = len(pruned_itemset[0])\n",
    "    for pruned in pruned_itemset:\n",
    "        item_count[tuple(pruned)] = 0\n",
    "    n_transaction = len(transactions)\n",
    "    for transaction in transactions:\n",
    "        if len(transaction) >= k:\n",
    "            for comb in combinations(transaction, k):\n",
    "                if comb in item_count:\n",
    "                    item_count[comb] = item_count[comb] + 1\n",
    "    for key, value in item_count.items():\n",
    "        if value / n_transaction >= minsupp:\n",
    "            result.append(sorted(list(key)))\n",
    "    return sorted(result), item_count\n",
    "\n",
    "\n",
    "def apriori_gen(prev_itemsets):\n",
    "    result = set()\n",
    "    for item1, item2 in combinations(prev_itemsets, 2):\n",
    "        if item1[:-1] == item2[:-1]:\n",
    "            if item1[-1] < item2[-1]:\n",
    "                result.add(tuple(item1 + [item2[-1]]))\n",
    "    result = list(result)\n",
    "    return sorted([list(x) for x in result])\n",
    "\n",
    "\n",
    "def prune(candidate_itemset, prev_itemset):\n",
    "    k = len(prev_itemset[0]) + 1\n",
    "    result = []\n",
    "    for itemset in candidate_itemset:\n",
    "        valid = True\n",
    "        for combination in combinations(itemset, k-1):\n",
    "            if list(combination) not in prev_itemset:\n",
    "                valid = False\n",
    "        if valid:\n",
    "            result.append(itemset)\n",
    "    return result\n",
    "\n",
    "\n",
    "def get_assoc_itemsets(large_itemsets, minconf, item_counts, k):\n",
    "    result = dict()\n",
    "    assoc_itemsets = dict()\n",
    "    assoc_itemset = set()\n",
    "    for i in range(2, k+1):\n",
    "        large_itemset = large_itemsets[i]\n",
    "        for itemset in large_itemset:\n",
    "            for j in range(k):\n",
    "                full = tuple(itemset)\n",
    "                left, right = itemset[:j] + itemset[j+1:], itemset[j]\n",
    "                assoc_itemset.add((tuple(full), tuple(left), right))\n",
    "    for full, left, right in assoc_itemset:\n",
    "        conf = item_counts[left] / item_counts[full]\n",
    "        assoc_itemsets[(left, right)] = conf\n",
    "        if conf >= minconf:\n",
    "            result[(left, right)] = conf\n",
    "    return assoc_itemsets\n",
    "\n",
    "\n",
    "def get_frequent_itemsets(transactions, minsupp, minconf):\n",
    "    large_itemsets = dict()\n",
    "    item_counts = dict()\n",
    "    k = 1\n",
    "    prev_itemset, item_count = get_l1_itemset(transactions, minsupp)\n",
    "    item_counts.update(item_count)\n",
    "    large_itemsets[k] = prev_itemset\n",
    "    while len(prev_itemset) > 0:\n",
    "        candidate_itemset = apriori_gen(prev_itemset)\n",
    "        if len(candidate_itemset) == 0:\n",
    "            break\n",
    "        pruned_itemset = prune(candidate_itemset, prev_itemset)\n",
    "        if len(pruned_itemset) == 0:\n",
    "            break\n",
    "        large_itemset, item_count = get_lk_candidate(pruned_itemset, transactions, minsupp)\n",
    "        item_counts.update(item_count)\n",
    "        if len(large_itemset) != 0:\n",
    "            k = k + 1\n",
    "            large_itemsets[k] = large_itemset\n",
    "        else:\n",
    "            break\n",
    "        prev_itemset = large_itemset\n",
    "    assoc_itemsets = get_assoc_itemsets(large_itemsets, minconf, item_counts, k)\n",
    "    return large_itemsets, assoc_itemsets\n",
    "\n",
    "\n"
   ]
  },
  {
   "cell_type": "code",
   "execution_count": 167,
   "id": "2803b8f2",
   "metadata": {},
   "outputs": [],
   "source": []
  },
  {
   "cell_type": "code",
   "execution_count": 168,
   "id": "d7844f5a",
   "metadata": {},
   "outputs": [],
   "source": []
  },
  {
   "cell_type": "code",
   "execution_count": 169,
   "id": "362948f3",
   "metadata": {},
   "outputs": [],
   "source": [
    "large_itemsets = dict()\n",
    "item_counts = dict()\n",
    "k = 1\n",
    "prev_itemset, item_count = get_l1_itemset(transactions, minsupp)"
   ]
  },
  {
   "cell_type": "code",
   "execution_count": 170,
   "id": "1f27f6c1",
   "metadata": {},
   "outputs": [
    {
     "data": {
      "text/plain": [
       "defaultdict(int, {('diary',): 3, ('ink',): 3, ('pen',): 4, ('soap',): 2})"
      ]
     },
     "execution_count": 170,
     "metadata": {},
     "output_type": "execute_result"
    }
   ],
   "source": [
    "item_count"
   ]
  },
  {
   "cell_type": "code",
   "execution_count": 171,
   "id": "9a61a935",
   "metadata": {},
   "outputs": [],
   "source": [
    "item_counts.update(item_count)"
   ]
  },
  {
   "cell_type": "code",
   "execution_count": 172,
   "id": "4c16c4a0",
   "metadata": {},
   "outputs": [
    {
     "data": {
      "text/plain": [
       "{('diary',): 3, ('ink',): 3, ('pen',): 4, ('soap',): 2}"
      ]
     },
     "execution_count": 172,
     "metadata": {},
     "output_type": "execute_result"
    }
   ],
   "source": [
    "item_counts"
   ]
  },
  {
   "cell_type": "code",
   "execution_count": 173,
   "id": "49416205",
   "metadata": {},
   "outputs": [],
   "source": [
    "large_itemsets[k] = prev_itemset"
   ]
  },
  {
   "cell_type": "code",
   "execution_count": 174,
   "id": "978f6545",
   "metadata": {},
   "outputs": [
    {
     "data": {
      "text/plain": [
       "{1: [[('diary',)], [('ink',)], [('pen',)]]}"
      ]
     },
     "execution_count": 174,
     "metadata": {},
     "output_type": "execute_result"
    }
   ],
   "source": [
    "large_itemsets"
   ]
  },
  {
   "cell_type": "code",
   "execution_count": 179,
   "id": "bc4c8d21",
   "metadata": {},
   "outputs": [
    {
     "data": {
      "text/plain": [
       "[([('diary',)], [('ink',)]),\n",
       " ([('diary',)], [('pen',)]),\n",
       " ([('ink',)], [('pen',)])]"
      ]
     },
     "execution_count": 179,
     "metadata": {},
     "output_type": "execute_result"
    }
   ],
   "source": [
    "list(combinations(prev_itemset, 2))"
   ]
  },
  {
   "cell_type": "code",
   "execution_count": 175,
   "id": "c42a0eb6",
   "metadata": {},
   "outputs": [],
   "source": [
    "candidate_itemset = apriori_gen(prev_itemset)"
   ]
  },
  {
   "cell_type": "code",
   "execution_count": 176,
   "id": "25eecd67",
   "metadata": {},
   "outputs": [
    {
     "data": {
      "text/plain": [
       "[[('diary',), ('ink',)], [('diary',), ('pen',)], [('ink',), ('pen',)]]"
      ]
     },
     "execution_count": 176,
     "metadata": {},
     "output_type": "execute_result"
    }
   ],
   "source": [
    "candidate_itemset"
   ]
  },
  {
   "cell_type": "code",
   "execution_count": null,
   "id": "23789c42",
   "metadata": {},
   "outputs": [],
   "source": []
  },
  {
   "cell_type": "code",
   "execution_count": null,
   "id": "b0f265fe",
   "metadata": {},
   "outputs": [],
   "source": []
  },
  {
   "cell_type": "code",
   "execution_count": 63,
   "id": "4721b087",
   "metadata": {},
   "outputs": [],
   "source": [
    "a = frozenset([1,2,3])"
   ]
  },
  {
   "cell_type": "code",
   "execution_count": 64,
   "id": "5a8227cd",
   "metadata": {},
   "outputs": [],
   "source": [
    "b = set(a)"
   ]
  },
  {
   "cell_type": "code",
   "execution_count": 68,
   "id": "08d38ec6",
   "metadata": {},
   "outputs": [
    {
     "data": {
      "text/plain": [
       "1"
      ]
     },
     "execution_count": 68,
     "metadata": {},
     "output_type": "execute_result"
    }
   ],
   "source": [
    "b.pop()"
   ]
  },
  {
   "cell_type": "code",
   "execution_count": 71,
   "id": "204a36ee",
   "metadata": {},
   "outputs": [
    {
     "ename": "TypeError",
     "evalue": "int() argument must be a string, a bytes-like object or a number, not 'set'",
     "output_type": "error",
     "traceback": [
      "\u001b[0;31m---------------------------------------------------------------------------\u001b[0m",
      "\u001b[0;31mTypeError\u001b[0m                                 Traceback (most recent call last)",
      "\u001b[0;32m<ipython-input-71-fcce5318b676>\u001b[0m in \u001b[0;36m<module>\u001b[0;34m\u001b[0m\n\u001b[0;32m----> 1\u001b[0;31m \u001b[0mint\u001b[0m\u001b[0;34m(\u001b[0m\u001b[0;34m(\u001b[0m\u001b[0;34m{\u001b[0m\u001b[0;36m1\u001b[0m\u001b[0;34m,\u001b[0m \u001b[0;36m2\u001b[0m\u001b[0;34m,\u001b[0m \u001b[0;36m3\u001b[0m\u001b[0;34m}\u001b[0m \u001b[0;34m-\u001b[0m \u001b[0;34m{\u001b[0m\u001b[0;36m1\u001b[0m\u001b[0;34m,\u001b[0m \u001b[0;36m2\u001b[0m\u001b[0;34m}\u001b[0m\u001b[0;34m)\u001b[0m\u001b[0;34m)\u001b[0m\u001b[0;34m\u001b[0m\u001b[0;34m\u001b[0m\u001b[0m\n\u001b[0m",
      "\u001b[0;31mTypeError\u001b[0m: int() argument must be a string, a bytes-like object or a number, not 'set'"
     ]
    }
   ],
   "source": [
    "({1, 2, 3} - {1, 2}).pop()"
   ]
  },
  {
   "cell_type": "code",
   "execution_count": 66,
   "id": "031a1df5",
   "metadata": {},
   "outputs": [
    {
     "ename": "TypeError",
     "evalue": "unhashable type: 'set'",
     "output_type": "error",
     "traceback": [
      "\u001b[0;31m---------------------------------------------------------------------------\u001b[0m",
      "\u001b[0;31mTypeError\u001b[0m                                 Traceback (most recent call last)",
      "\u001b[0;32m<ipython-input-66-cd03ca8a7ee7>\u001b[0m in \u001b[0;36m<module>\u001b[0;34m\u001b[0m\n\u001b[0;32m----> 1\u001b[0;31m \u001b[0mb\u001b[0m\u001b[0;34m.\u001b[0m\u001b[0madd\u001b[0m\u001b[0;34m(\u001b[0m\u001b[0;34m{\u001b[0m\u001b[0;36m4\u001b[0m\u001b[0;34m}\u001b[0m\u001b[0;34m)\u001b[0m\u001b[0;34m\u001b[0m\u001b[0;34m\u001b[0m\u001b[0m\n\u001b[0m\u001b[1;32m      2\u001b[0m \u001b[0mb\u001b[0m\u001b[0;34m.\u001b[0m\u001b[0madd\u001b[0m\u001b[0;34m(\u001b[0m\u001b[0;34m{\u001b[0m\u001b[0;36m5\u001b[0m\u001b[0;34m}\u001b[0m\u001b[0;34m)\u001b[0m\u001b[0;34m\u001b[0m\u001b[0;34m\u001b[0m\u001b[0m\n",
      "\u001b[0;31mTypeError\u001b[0m: unhashable type: 'set'"
     ]
    }
   ],
   "source": [
    "b.add({4})\n",
    "b.add({5})"
   ]
  },
  {
   "cell_type": "code",
   "execution_count": 62,
   "id": "852d77ff",
   "metadata": {},
   "outputs": [
    {
     "data": {
      "text/plain": [
       "{1, 2, 3, 4, 5}"
      ]
     },
     "execution_count": 62,
     "metadata": {},
     "output_type": "execute_result"
    }
   ],
   "source": [
    "b"
   ]
  },
  {
   "cell_type": "code",
   "execution_count": null,
   "id": "4936eb1f",
   "metadata": {},
   "outputs": [],
   "source": []
  }
 ],
 "metadata": {
  "kernelspec": {
   "display_name": "db3",
   "language": "python",
   "name": "db3"
  },
  "language_info": {
   "codemirror_mode": {
    "name": "ipython",
    "version": 3
   },
   "file_extension": ".py",
   "mimetype": "text/x-python",
   "name": "python",
   "nbconvert_exporter": "python",
   "pygments_lexer": "ipython3",
   "version": "3.6.9"
  }
 },
 "nbformat": 4,
 "nbformat_minor": 5
}
